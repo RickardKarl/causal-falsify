{
 "cells": [
  {
   "cell_type": "code",
   "execution_count": null,
   "id": "13deb74f",
   "metadata": {},
   "outputs": [],
   "source": [
    "import sys\n",
    "from tqdm import tqdm\n",
    "import numpy as np\n",
    "import itertools\n",
    "from typing import List\n",
    "\n",
    "# sys.path.append('..')\n",
    "sys.path.append(\"../src\")\n",
    "\n",
    "from causal_falsify.utils.simulate_data import simulate_data\n",
    "from causal_falsify.transport import TransportabilityTest\n",
    "from causal_falsify.mint import MINT\n",
    "from causal_falsify.hgic import HGIC"
   ]
  },
  {
   "cell_type": "code",
   "execution_count": null,
   "id": "717455aa",
   "metadata": {},
   "outputs": [],
   "source": [
    "data = simulate_data(\n",
    "    100,\n",
    "    degree=1,\n",
    "    conf_strength=0.0,\n",
    "    transportability_violation=0.0,\n",
    "    n_envs=50,\n",
    "    n_observed_confounders=5,\n",
    "    seed=42,\n",
    ")\n",
    "\n",
    "data.head()"
   ]
  },
  {
   "cell_type": "code",
   "execution_count": null,
   "id": "c7846539",
   "metadata": {},
   "outputs": [],
   "source": [
    "def test_method_grid(\n",
    "    method,\n",
    "    iterations: int,\n",
    "    seed: int,\n",
    "    alpha: float = 0.05,\n",
    "    n_samples_list=[100],\n",
    "    degree_list=[1, 3],\n",
    "    n_envs_list=[100],\n",
    "    transportability_violation_list=[0.0, 1.0],\n",
    "    n_observed_confounders_list=[2],\n",
    "):\n",
    "\n",
    "    config_grid = list(\n",
    "        itertools.product(\n",
    "            n_samples_list,\n",
    "            degree_list,\n",
    "            n_envs_list,\n",
    "            transportability_violation_list,\n",
    "            n_observed_confounders_list,\n",
    "        )\n",
    "    )\n",
    "\n",
    "    for (\n",
    "        n_samples,\n",
    "        degree,\n",
    "        n_envs,\n",
    "        transportability_violation,\n",
    "        n_observed_confounders,\n",
    "    ) in config_grid:\n",
    "\n",
    "        print(\"\\n--- Testing Configuration ---\")\n",
    "        print(\n",
    "            f\"n_samples: {n_samples}, degree: {degree}, n_envs: {n_envs}, \"\n",
    "            f\"transportability_violation: {transportability_violation}, \"\n",
    "            f\"n_observed_confounders: {n_observed_confounders}\"\n",
    "        )\n",
    "\n",
    "        def run_test(conf_strength):\n",
    "            rejections = []\n",
    "            for _ in tqdm(\n",
    "                range(iterations), desc=f\"conf_strength={conf_strength}\", leave=False\n",
    "            ):\n",
    "                data = simulate_data(\n",
    "                    n_samples=n_samples,\n",
    "                    degree=degree,\n",
    "                    conf_strength=conf_strength,\n",
    "                    transportability_violation=transportability_violation,\n",
    "                    n_envs=n_envs,\n",
    "                    n_observed_confounders=n_observed_confounders,\n",
    "                    seed=seed,\n",
    "                )\n",
    "\n",
    "                covariates = [f\"X_{i}\" for i in range(n_observed_confounders)]\n",
    "\n",
    "                result = method.test(\n",
    "                    data,\n",
    "                    covariate_vars=covariates,\n",
    "                    treatment_var=\"A\",\n",
    "                    outcome_var=\"Y\",\n",
    "                    source_var=\"S\",\n",
    "                )\n",
    "                rejections.append(result < alpha)\n",
    "            return rejections\n",
    "\n",
    "        rejections_null_true = run_test(conf_strength=0.0)\n",
    "        rejections_null_false = run_test(conf_strength=1.0)\n",
    "\n",
    "        type_1_error = np.mean(rejections_null_true)\n",
    "        type_2_error = 1 - np.mean(rejections_null_false)\n",
    "\n",
    "        print(f\"\\nResults for current configuration:\")\n",
    "        print(f\"  Type 1 error:  {type_1_error:.4f} (should be < {alpha})\")\n",
    "        print(f\"  Type 2 error:  {type_2_error:.4f} (should be < 0.2)\")\n",
    "\n",
    "        if type_1_error < alpha:\n",
    "            print(f\"  ✅ PASS Type 1 Error check\")\n",
    "        else:\n",
    "            print(f\"  ❌ FAIL Type 1 Error check\")\n",
    "\n",
    "        if type_2_error < 0.2:\n",
    "            print(f\"  ✅ PASS Type 2 Error check\")\n",
    "        else:\n",
    "            print(f\"  ❌ FAIL Type 2 Error check\")"
   ]
  },
  {
   "cell_type": "code",
   "execution_count": null,
   "id": "32c70cb2",
   "metadata": {},
   "outputs": [],
   "source": [
    "hgic_method = HGIC(max_tests=-1, cond_indep_test=\"fisherz\")\n",
    "test_method_grid(hgic_method, iterations=100, seed=42)"
   ]
  },
  {
   "cell_type": "code",
   "execution_count": null,
   "id": "0bd2c9c8",
   "metadata": {},
   "outputs": [],
   "source": [
    "hgic_method = HGIC(max_tests=-1, cond_indep_test=\"kcit_rbf\")\n",
    "test_method_grid(hgic_method, iterations=100, seed=42)"
   ]
  },
  {
   "cell_type": "code",
   "execution_count": null,
   "id": "83f39b6a",
   "metadata": {},
   "outputs": [],
   "source": [
    "mint_method = MINT(feature_representation=\"linear\")\n",
    "test_method_grid(mint_method, iterations=100, seed=42)"
   ]
  },
  {
   "cell_type": "code",
   "execution_count": null,
   "id": "ff10ff64",
   "metadata": {},
   "outputs": [],
   "source": [
    "mint_method = MINT(\n",
    "    feature_representation=\"poly\", feature_representation_params={\"degree\": 3}\n",
    ")\n",
    "test_method_grid(mint_method, iterations=100, seed=42)"
   ]
  },
  {
   "cell_type": "code",
   "execution_count": null,
   "id": "c6340a64",
   "metadata": {},
   "outputs": [],
   "source": [
    "transportability_method = TransportabilityTest(cond_indep_test=\"fisherz\")\n",
    "test_method_grid(transportability_method, iterations=100, seed=42)"
   ]
  },
  {
   "cell_type": "code",
   "execution_count": null,
   "id": "67ffe2ff",
   "metadata": {},
   "outputs": [],
   "source": [
    "transportability_method = TransportabilityTest(cond_indep_test=\"kcit_rbf\", max_sample_size=250)\n",
    "test_method_grid(transportability_method, iterations=100, seed=42)"
   ]
  }
 ],
 "metadata": {
  "kernelspec": {
   "display_name": "venv",
   "language": "python",
   "name": "python3"
  },
  "language_info": {
   "codemirror_mode": {
    "name": "ipython",
    "version": 3
   },
   "file_extension": ".py",
   "mimetype": "text/x-python",
   "name": "python",
   "nbconvert_exporter": "python",
   "pygments_lexer": "ipython3",
   "version": "3.9.6"
  }
 },
 "nbformat": 4,
 "nbformat_minor": 5
}
